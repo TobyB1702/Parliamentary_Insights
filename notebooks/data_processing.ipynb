{
 "cells": [
  {
   "cell_type": "markdown",
   "metadata": {},
   "source": [
    "Load required packages"
   ]
  },
  {
   "cell_type": "code",
   "execution_count": 14,
   "metadata": {},
   "outputs": [],
   "source": [
    "import pandas as pd"
   ]
  },
  {
   "cell_type": "markdown",
   "metadata": {},
   "source": [
    "Get filepaths for parliament reports"
   ]
  },
  {
   "cell_type": "code",
   "execution_count": 15,
   "metadata": {},
   "outputs": [],
   "source": [
    "# Load each file, using raw string literals to avoid issues with backslashes\n",
    "file_paths = [\n",
    "    (r'..\\data\\raw\\scottish_parliament_report_07_01_25.txt', '07/01/25'),\n",
    "    (r'..\\data\\raw\\scottish_parliament_report_08_10_24.txt', '08/10/24'),\n",
    "    (r'..\\data\\raw\\scottish_parliament_report_10_09_24.txt', '10/09/24'),\n",
    "    (r'..\\data\\raw\\scottish_parliament_report_26_06_24.txt', '26/06/24')\n",
    "]"
   ]
  },
  {
   "cell_type": "markdown",
   "metadata": {},
   "source": [
    "Define methods for data processing"
   ]
  },
  {
   "cell_type": "code",
   "execution_count": 16,
   "metadata": {},
   "outputs": [],
   "source": [
    "#MOVE INTO A SERVICE CLASS\n",
    "\n",
    "def load_file(filename : str) -> list:\n",
    "    \"\"\"\n",
    "    Load a file and return its content as a list of lines.\n",
    "\n",
    "    Parameters:\n",
    "    filename (str): The path to the file to be loaded.\n",
    "\n",
    "    Returns:\n",
    "    list: A list of lines from the file.\n",
    "    \"\"\"\n",
    "\n",
    "    with open(filename, 'r', encoding='utf-8') as file:\n",
    "        lines = file.readlines()\n",
    "    return lines\n",
    "\n",
    "def split_lines(lines : list) -> tuple:\n",
    "    \"\"\"\n",
    "    Load a list of strings and split them into three lists: names, speeches and times. \n",
    "    The data coming in is split by '\\n' characters, so the function counts the number of lines between each '\\n' character.\n",
    "    To determine the structure of the data. Which whether or not a time stamp is present. \n",
    "\n",
    "    Parameters:\n",
    "    lines (list): A list of strings from a loaded file.\n",
    "\n",
    "    Returns:\n",
    "    tuple: A tuple of three lists: names, speeches and times.\n",
    "    \"\"\"\n",
    "    count = 0\n",
    "    times = []\n",
    "    names = []\n",
    "    speeches = []\n",
    "    \n",
    "    for i in range(0, len(lines)):\n",
    "        if lines[i] != '\\n':\n",
    "            count += 1\n",
    "        else:\n",
    "            if count > 2:\n",
    "                times.append(lines[i - count].strip())\n",
    "                names.append(lines[i - count + 1].replace(\":\",\"\").strip())\n",
    "                speeches.append(lines[i - count + 2].strip())\n",
    "            else:\n",
    "                times.append(\"\")\n",
    "                names.append(lines[i - count].replace(\":\",\"\").strip())\n",
    "                speeches.append(lines[i - count + 1].strip())\n",
    "            count = 0\n",
    "\n",
    "    return names, speeches, times\n",
    "\n",
    "def process_file(file_path : str, date : str) -> pd.DataFrame:\n",
    "    \"\"\"\n",
    "    Load a parliament file, split its content into names, speeches, times and dates and return a DataFrame with the data. \n",
    "\n",
    "    Parameters:\n",
    "    file_path (str): The path to the file to be loaded.\n",
    "    date (str): The date of the parliament session.\n",
    "\n",
    "    Returns:\n",
    "    pd.DataFrame: A DataFrame with columns 'Name', 'Speech', 'Time' and 'Date'.\n",
    "    \"\"\"\n",
    "    lines = load_file(file_path)\n",
    "    names, speeches, times = split_lines(lines)\n",
    "    df = pd.DataFrame({'Name': names, 'Speech': speeches, 'Time': times})\n",
    "    df['Date'] = date\n",
    "    return df\n"
   ]
  },
  {
   "cell_type": "markdown",
   "metadata": {},
   "source": [
    "Run data processing"
   ]
  },
  {
   "cell_type": "code",
   "execution_count": 20,
   "metadata": {},
   "outputs": [
    {
     "data": {
      "text/html": [
       "<div>\n",
       "<style scoped>\n",
       "    .dataframe tbody tr th:only-of-type {\n",
       "        vertical-align: middle;\n",
       "    }\n",
       "\n",
       "    .dataframe tbody tr th {\n",
       "        vertical-align: top;\n",
       "    }\n",
       "\n",
       "    .dataframe thead th {\n",
       "        text-align: right;\n",
       "    }\n",
       "</style>\n",
       "<table border=\"1\" class=\"dataframe\">\n",
       "  <thead>\n",
       "    <tr style=\"text-align: right;\">\n",
       "      <th></th>\n",
       "      <th>Name</th>\n",
       "      <th>Speech</th>\n",
       "      <th>Time</th>\n",
       "      <th>Date</th>\n",
       "    </tr>\n",
       "  </thead>\n",
       "  <tbody>\n",
       "    <tr>\n",
       "      <th>0</th>\n",
       "      <td>The Convener</td>\n",
       "      <td>The next item on our agenda is to take evidenc...</td>\n",
       "      <td></td>\n",
       "      <td>07/01/25</td>\n",
       "    </tr>\n",
       "    <tr>\n",
       "      <th>1</th>\n",
       "      <td>Stephen Boyle (Auditor General for Scotland)</td>\n",
       "      <td>Many thanks, convener, and happy new year to t...</td>\n",
       "      <td></td>\n",
       "      <td>07/01/25</td>\n",
       "    </tr>\n",
       "    <tr>\n",
       "      <th>2</th>\n",
       "      <td>Stephen Boyle (Auditor General for Scotland)</td>\n",
       "      <td>The report found that the Scottish Government ...</td>\n",
       "      <td></td>\n",
       "      <td>07/01/25</td>\n",
       "    </tr>\n",
       "    <tr>\n",
       "      <th>3</th>\n",
       "      <td>Stephen Boyle (Auditor General for Scotland)</td>\n",
       "      <td>Although my report was published prior to the ...</td>\n",
       "      <td></td>\n",
       "      <td>07/01/25</td>\n",
       "    </tr>\n",
       "    <tr>\n",
       "      <th>4</th>\n",
       "      <td>Stephen Boyle (Auditor General for Scotland)</td>\n",
       "      <td>The Scottish Government continues to face many...</td>\n",
       "      <td></td>\n",
       "      <td>07/01/25</td>\n",
       "    </tr>\n",
       "  </tbody>\n",
       "</table>\n",
       "</div>"
      ],
      "text/plain": [
       "                                           Name  \\\n",
       "0                                  The Convener   \n",
       "1  Stephen Boyle (Auditor General for Scotland)   \n",
       "2  Stephen Boyle (Auditor General for Scotland)   \n",
       "3  Stephen Boyle (Auditor General for Scotland)   \n",
       "4  Stephen Boyle (Auditor General for Scotland)   \n",
       "\n",
       "                                              Speech Time      Date  \n",
       "0  The next item on our agenda is to take evidenc...       07/01/25  \n",
       "1  Many thanks, convener, and happy new year to t...       07/01/25  \n",
       "2  The report found that the Scottish Government ...       07/01/25  \n",
       "3  Although my report was published prior to the ...       07/01/25  \n",
       "4  The Scottish Government continues to face many...       07/01/25  "
      ]
     },
     "execution_count": 20,
     "metadata": {},
     "output_type": "execute_result"
    }
   ],
   "source": [
    "# Load and process all files\n",
    "dfs = [process_file(file_path, date) for file_path, date in file_paths]\n",
    "# Combine all DataFrames into a single one\n",
    "combined_df = pd.concat(dfs, ignore_index=True)\n",
    "# save combined data to csv\n",
    "combined_df.to_csv(r'..\\data\\combined_parliament_reports.csv', index=False)\n",
    "combined_df.head()"
   ]
  }
 ],
 "metadata": {
  "kernelspec": {
   "display_name": "parliamentary_insights",
   "language": "python",
   "name": "python3"
  },
  "language_info": {
   "codemirror_mode": {
    "name": "ipython",
    "version": 3
   },
   "file_extension": ".py",
   "mimetype": "text/x-python",
   "name": "python",
   "nbconvert_exporter": "python",
   "pygments_lexer": "ipython3",
   "version": "3.12.8"
  }
 },
 "nbformat": 4,
 "nbformat_minor": 2
}
